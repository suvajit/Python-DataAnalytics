{
 "cells": [
  {
   "cell_type": "markdown",
   "metadata": {},
   "source": [
    "# Data Analytics with Python"
   ]
  },
  {
   "cell_type": "markdown",
   "metadata": {},
   "source": [
    "## What is Pandas ?\n",
    "\n",
    "Pandas is an open-source Python Library providing high-performance data manipulation and analysis tool using its powerful data structures. The name Pandas is derived from the word Panel Data – an Econometrics from Multidimensional data.\n",
    "\n",
    "Using Pandas, we can accomplish five typical steps in the processing and analysis of data, regardless of the origin of data — \n",
    "1.  load,\n",
    "2.  prepare,\n",
    "3.  manipulate,\n",
    "4.  model, and \n",
    "5.  analyze.\n"
   ]
  },
  {
   "cell_type": "markdown",
   "metadata": {},
   "source": [
    "## Key features of Pandas\n",
    "\n",
    "* Fast and efficient Objects with default and customized indexing.\n",
    "* Tools for loading data into in-memory data objects from different file formats.\n",
    "* Data alignment and integrated handling of missing data.\n",
    "* Reshaping and pivoting of data sets.\n",
    "* Label-based slicing, indexing and subsetting of large data sets.\n",
    "* Columns from a data structure can be deleted or inserted.\n",
    "* Group by data for aggregation and transformations.\n",
    "* High performance merging and joining of data.\n",
    "* Time Series functionality."
   ]
  },
  {
   "cell_type": "markdown",
   "metadata": {},
   "source": [
    "## Major Data structure in Pandas :\n",
    "\n",
    "| Data Structure |\tDimensions |\tDescription                                |\n",
    "|----------------|-------------|-----------------------------------------------|\n",
    "|Series          |\t1\t       | 1D labeled homogeneous array, size-immutable. |\n",
    "|Data Frames     |\t2\t       | General 2D labeled, size-mutable tabular structure with potentially heterogeneously typed columns.   |\n",
    "|Panel           |\t3\t       | General 3D labeled, size-mutable array. |\n",
    "\n",
    "\n",
    "Out of the 3 data structure provided by Pandas, Data Frame is the most used structure.\n"
   ]
  },
  {
   "cell_type": "markdown",
   "metadata": {},
   "source": [
    "## Topics in this Tutorial\n",
    "\n",
    "* Basics\n",
    "* Pandas Series\n",
    "* Series - Exercises\n",
    "* Pandas DataFrame\n",
    "* Data Frame - Exercises\n",
    "* Pandas Panel\n",
    "* Panel - Exercises\n",
    "* Project Ideas"
   ]
  },
  {
   "cell_type": "code",
   "execution_count": null,
   "metadata": {
    "collapsed": true
   },
   "outputs": [],
   "source": []
  }
 ],
 "metadata": {
  "anaconda-cloud": {},
  "kernelspec": {
   "display_name": "Python [default]",
   "language": "python",
   "name": "python3"
  },
  "language_info": {
   "codemirror_mode": {
    "name": "ipython",
    "version": 3
   },
   "file_extension": ".py",
   "mimetype": "text/x-python",
   "name": "python",
   "nbconvert_exporter": "python",
   "pygments_lexer": "ipython3",
   "version": "3.5.2"
  }
 },
 "nbformat": 4,
 "nbformat_minor": 1
}
